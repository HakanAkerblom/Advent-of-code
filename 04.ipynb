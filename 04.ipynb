{
 "cells": [
  {
   "cell_type": "code",
   "execution_count": 24,
   "metadata": {},
   "outputs": [
    {
     "data": {
      "text/plain": [
       "500"
      ]
     },
     "execution_count": 24,
     "metadata": {},
     "output_type": "execute_result"
    }
   ],
   "source": [
    "with open(\"input04.txt\") as file:\n",
    "    input = file.read().splitlines()\n",
    "\n",
    "# print(input)\n",
    "score = 0\n",
    "for item in input:\n",
    "    first = item.split(\",\")[0]\n",
    "    second = item.split(\",\")[1]\n",
    "    first_low = int(first.split(\"-\")[0])\n",
    "    first_high = int(first.split(\"-\")[1])\n",
    "    second_low = int(second.split(\"-\")[0])\n",
    "    second_high = int(second.split(\"-\")[1])\n",
    "    #print(first_low, first_high, second_low, second_high)\n",
    "    if first_low <= second_low and first_high >= second_high:\n",
    "        score += 1\n",
    "    elif first_low >= second_low and first_high <= second_high:\n",
    "        score += 1\n",
    "\n",
    "score\n"
   ]
  },
  {
   "cell_type": "markdown",
   "metadata": {},
   "source": [
    "# 4b"
   ]
  },
  {
   "cell_type": "code",
   "execution_count": 26,
   "metadata": {},
   "outputs": [
    {
     "data": {
      "text/plain": [
       "815"
      ]
     },
     "execution_count": 26,
     "metadata": {},
     "output_type": "execute_result"
    }
   ],
   "source": [
    "with open(\"input04.txt\") as file:\n",
    "    input = file.read().splitlines()\n",
    "\n",
    "# print(input)\n",
    "score = 0\n",
    "for item in input:\n",
    "    first = item.split(\",\")[0]\n",
    "    second = item.split(\",\")[1]\n",
    "    first_low = int(first.split(\"-\")[0])\n",
    "    first_high = int(first.split(\"-\")[1])\n",
    "    second_low = int(second.split(\"-\")[0])\n",
    "    second_high = int(second.split(\"-\")[1])\n",
    "    #print(first_low, first_high, second_low, second_high)\n",
    "    first_list = [i for i in range(first_low, first_high+1)]\n",
    "    second_list = [i for i in range(second_low, second_high+1)]\n",
    "    for number in first_list:\n",
    "        if number in second_list:\n",
    "            score += 1\n",
    "            break\n",
    "\n",
    "score"
   ]
  }
 ],
 "metadata": {
  "kernelspec": {
   "display_name": "Python 3.9.13 ('Advent-of-code-mqTtSVl_')",
   "language": "python",
   "name": "python3"
  },
  "language_info": {
   "codemirror_mode": {
    "name": "ipython",
    "version": 3
   },
   "file_extension": ".py",
   "mimetype": "text/x-python",
   "name": "python",
   "nbconvert_exporter": "python",
   "pygments_lexer": "ipython3",
   "version": "3.9.13"
  },
  "orig_nbformat": 4,
  "vscode": {
   "interpreter": {
    "hash": "584adfd86da14e803a529d4149d698f4db4837deec92515cbcb6002dceaf0f11"
   }
  }
 },
 "nbformat": 4,
 "nbformat_minor": 2
}
