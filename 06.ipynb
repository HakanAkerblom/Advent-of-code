{
 "cells": [
  {
   "cell_type": "code",
   "execution_count": 14,
   "metadata": {},
   "outputs": [
    {
     "name": "stdout",
     "output_type": "stream",
     "text": [
      "3697\n"
     ]
    }
   ],
   "source": [
    "with open(\"input06.txt\") as file:\n",
    "    message = file.read()\n",
    "\n",
    "count, letters = 0, []\n",
    "length = 14\n",
    "while True:\n",
    "    letters.append(message[count])\n",
    "    count += 1\n",
    "    if len(letters) < length:\n",
    "        continue\n",
    "\n",
    "    for letter in letters:\n",
    "        if letters.count(letter) > 1:\n",
    "            letters.pop(0)\n",
    "            break\n",
    "\n",
    "    else:\n",
    "        print(count)\n",
    "        break\n"
   ]
  },
  {
   "cell_type": "code",
   "execution_count": null,
   "metadata": {},
   "outputs": [],
   "source": []
  }
 ],
 "metadata": {
  "kernelspec": {
   "display_name": "Advent-of-code-Yfcixk6x",
   "language": "python",
   "name": "python3"
  },
  "language_info": {
   "codemirror_mode": {
    "name": "ipython",
    "version": 3
   },
   "file_extension": ".py",
   "mimetype": "text/x-python",
   "name": "python",
   "nbconvert_exporter": "python",
   "pygments_lexer": "ipython3",
   "version": "3.9.7"
  },
  "orig_nbformat": 4,
  "vscode": {
   "interpreter": {
    "hash": "c76e5a016c7b06c875b13fee4854d9c402a5e3bf5f5a81569ba2a8c4047852bb"
   }
  }
 },
 "nbformat": 4,
 "nbformat_minor": 2
}
