{
 "cells": [
  {
   "cell_type": "code",
   "execution_count": 14,
   "metadata": {},
   "outputs": [
    {
     "data": {
      "text/plain": [
       "12156"
      ]
     },
     "execution_count": 14,
     "metadata": {},
     "output_type": "execute_result"
    }
   ],
   "source": [
    "with open(\"input02.txt\") as file:\n",
    "    input = file.readlines()\n",
    "\n",
    "# cleaning data\n",
    "for i, item in enumerate(input):\n",
    "    input[i] = item.strip().split(\" \")\n",
    "\n",
    "score = 0\n",
    "for item in input:\n",
    "    if item[1] == \"X\":\n",
    "        score += 1\n",
    "        if item[0] == \"C\":\n",
    "            score += 6\n",
    "        elif item[0] == \"A\":\n",
    "            score += 3\n",
    "    elif item[1] == \"Y\":\n",
    "        score += 2\n",
    "        if item[0] == \"A\":\n",
    "            score += 6\n",
    "        elif item[0] == \"B\":\n",
    "            score += 3\n",
    "    elif item[1] == \"Z\":\n",
    "        score += 3\n",
    "        if item[0] == \"B\":\n",
    "            score += 6\n",
    "        elif item[0] == \"C\":\n",
    "            score += 3\n",
    "score\n"
   ]
  },
  {
   "cell_type": "markdown",
   "metadata": {},
   "source": [
    "# 2b"
   ]
  },
  {
   "cell_type": "code",
   "execution_count": 23,
   "metadata": {},
   "outputs": [
    {
     "data": {
      "text/plain": [
       "10835"
      ]
     },
     "execution_count": 23,
     "metadata": {},
     "output_type": "execute_result"
    }
   ],
   "source": [
    "import re\n",
    "\n",
    "with open(\"input02.txt\") as file:\n",
    "    input = file.read()\n",
    "score = 0\n",
    "score += len(re.findall(\"A X\", input)) * 3\n",
    "score += len(re.findall(\"A Y\", input)) * 4\n",
    "score += len(re.findall(\"A Z\", input)) * 8\n",
    "score += len(re.findall(\"B X\", input)) * 1\n",
    "score += len(re.findall(\"B Y\", input)) * 5\n",
    "score += len(re.findall(\"B Z\", input)) * 9\n",
    "score += len(re.findall(\"C X\", input)) * 2\n",
    "score += len(re.findall(\"C Y\", input)) * 6\n",
    "score += len(re.findall(\"C Z\", input)) * 7\n",
    "score\n",
    "\n"
   ]
  },
  {
   "cell_type": "code",
   "execution_count": null,
   "metadata": {},
   "outputs": [],
   "source": []
  }
 ],
 "metadata": {
  "kernelspec": {
   "display_name": "Python 3.9.7 ('Advent-of-code-Yfcixk6x')",
   "language": "python",
   "name": "python3"
  },
  "language_info": {
   "codemirror_mode": {
    "name": "ipython",
    "version": 3
   },
   "file_extension": ".py",
   "mimetype": "text/x-python",
   "name": "python",
   "nbconvert_exporter": "python",
   "pygments_lexer": "ipython3",
   "version": "3.9.7"
  },
  "orig_nbformat": 4,
  "vscode": {
   "interpreter": {
    "hash": "c76e5a016c7b06c875b13fee4854d9c402a5e3bf5f5a81569ba2a8c4047852bb"
   }
  }
 },
 "nbformat": 4,
 "nbformat_minor": 2
}
