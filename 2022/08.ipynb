{
 "cells": [
  {
   "attachments": {},
   "cell_type": "markdown",
   "metadata": {},
   "source": [
    "# 8a"
   ]
  },
  {
   "cell_type": "code",
   "execution_count": null,
   "metadata": {},
   "outputs": [],
   "source": [
    "import numpy as np\n",
    "\n",
    "with open(\"input08.txt\") as file:\n",
    "    input = file.read().split()\n",
    "\n",
    "trees_list = []\n",
    "visible_trees = 0\n",
    "for row in input:\n",
    "    temp = []\n",
    "    for letter in row:\n",
    "        temp.append(letter)\n",
    "    trees_list.append(temp)\n",
    "\n",
    "trees_array = np.array(trees_list, dtype=int)\n",
    "print(trees_array.shape)\n",
    "\n",
    "for i, row in enumerate(trees_array):\n",
    "    for j, tree in enumerate(row):\n",
    "        \n",
    "        if i == 0 or i == 98 or j == 0 or j == 98:\n",
    "            visible_trees += 1\n",
    "            continue\n",
    "        else:\n",
    "            temp_above = []\n",
    "            temp_below = []\n",
    "            temp_left = []\n",
    "            temp_right = []\n",
    "            for k, above_trees in enumerate(range(i)):\n",
    "                temp_above.append(trees_array[k][j])\n",
    "\n",
    "            if max(temp_above) < tree:\n",
    "                visible_trees += 1\n",
    "                continue\n",
    "                \n",
    "            else:\n",
    "                for k, below_trees in enumerate(range(98-i)):\n",
    "                    temp_below.append(trees_array[98-k][j])\n",
    "\n",
    "                if max(temp_below) < tree:\n",
    "                    visible_trees += 1\n",
    "                    continue\n",
    "\n",
    "                else:\n",
    "                    for k, left_trees in enumerate(range(j)):\n",
    "                        temp_left.append(trees_array[i][k])\n",
    "\n",
    "                    if max(temp_left) < tree:\n",
    "                        visible_trees += 1\n",
    "                        continue\n",
    "\n",
    "                    else:\n",
    "                        for k, right_trees in enumerate(range(98-j)):\n",
    "                            temp_right.append(trees_array[i][98-k])\n",
    "\n",
    "                        if max(temp_right) < tree:\n",
    "                            visible_trees += 1\n",
    "                            \n",
    "                        \n",
    "print(visible_trees)\n",
    "\n",
    "            \n",
    "                \n",
    "\n",
    "\n",
    "\n"
   ]
  },
  {
   "attachments": {},
   "cell_type": "markdown",
   "metadata": {},
   "source": [
    "# 8b"
   ]
  },
  {
   "cell_type": "code",
   "execution_count": 6,
   "metadata": {},
   "outputs": [
    {
     "name": "stdout",
     "output_type": "stream",
     "text": [
      "230112\n",
      "9409\n"
     ]
    }
   ],
   "source": [
    "import numpy as np\n",
    "\n",
    "with open(\"input08.txt\") as file:\n",
    "    input = file.read().split()\n",
    "\n",
    "trees_list = []\n",
    "visible_trees = 0\n",
    "for row in input:\n",
    "    temp = []\n",
    "    for letter in row:\n",
    "        temp.append(letter)\n",
    "    trees_list.append(temp)\n",
    "\n",
    "trees_array = np.array(trees_list, dtype=int)\n",
    "\n",
    "scenic_scores = []\n",
    "\n",
    "for i, row in enumerate(trees_array):\n",
    "    for j, tree in enumerate(row):\n",
    "        temp_scenic_score = 0\n",
    "        visible_above = 0\n",
    "        visible_below = 0\n",
    "        visible_left = 0\n",
    "        visible_right = 0\n",
    "\n",
    "        if i == 0 or i == 98 or j == 0 or j == 98:\n",
    "            continue\n",
    "        else:\n",
    "\n",
    "            for above_tree in range(1, i+1):\n",
    "                if trees_array[i - above_tree][j] >= tree:\n",
    "                    visible_above += 1\n",
    "                    break\n",
    "                else:\n",
    "                    visible_above += 1\n",
    "\n",
    "            for below_tree in range(1, 99 - i):\n",
    "                if trees_array[i + below_tree][j] >= tree:\n",
    "                    visible_below += 1\n",
    "                    break\n",
    "                else:\n",
    "                    visible_below += 1\n",
    "\n",
    "            for left_tree in range(1, j+1):\n",
    "                if trees_array[i][j - left_tree] >= tree:\n",
    "                    visible_left += 1\n",
    "                    break\n",
    "                else:\n",
    "                    visible_left += 1\n",
    "\n",
    "            for right_tree in range(1, 99 - j):\n",
    "                if trees_array[i][j + right_tree] >= tree:\n",
    "                    visible_right += 1\n",
    "                    break\n",
    "                else:\n",
    "                    visible_right += 1\n",
    "\n",
    "            temp_scenic_score = (\n",
    "                visible_above * visible_below * visible_left * visible_right\n",
    "            )\n",
    "            scenic_scores.append(temp_scenic_score)\n",
    "\n",
    "print(max(scenic_scores))\n",
    "print(len(scenic_scores))\n"
   ]
  },
  {
   "cell_type": "code",
   "execution_count": null,
   "metadata": {},
   "outputs": [],
   "source": []
  },
  {
   "cell_type": "code",
   "execution_count": null,
   "metadata": {},
   "outputs": [],
   "source": []
  }
 ],
 "metadata": {
  "kernelspec": {
   "display_name": "Advent-of-code-mqTtSVl_",
   "language": "python",
   "name": "python3"
  },
  "language_info": {
   "codemirror_mode": {
    "name": "ipython",
    "version": 3
   },
   "file_extension": ".py",
   "mimetype": "text/x-python",
   "name": "python",
   "nbconvert_exporter": "python",
   "pygments_lexer": "ipython3",
   "version": "3.9.13"
  },
  "orig_nbformat": 4,
  "vscode": {
   "interpreter": {
    "hash": "584adfd86da14e803a529d4149d698f4db4837deec92515cbcb6002dceaf0f11"
   }
  }
 },
 "nbformat": 4,
 "nbformat_minor": 2
}
