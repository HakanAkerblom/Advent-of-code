{
 "cells": [
  {
   "cell_type": "code",
   "execution_count": 25,
   "metadata": {},
   "outputs": [
    {
     "name": "stdout",
     "output_type": "stream",
     "text": [
      "[S]\n",
      "[B]\n",
      "[P]\n",
      "[Q]\n",
      "[R]\n",
      "[S]\n",
      "[C]\n",
      "[D]\n",
      "[F]\n"
     ]
    }
   ],
   "source": [
    "with open(\"input05.txt\") as file:\n",
    "    input = file.read().splitlines()\n",
    "\n",
    "big_list = [[]for i in range(9)]\n",
    "\n",
    "for row in input[:8]:\n",
    "    big_list[0].append(row[0:3])\n",
    "    big_list[1].append(row[4:7])\n",
    "    big_list[2].append(row[8:11])\n",
    "    big_list[3].append(row[12:15])\n",
    "    big_list[4].append(row[16:19])\n",
    "    big_list[5].append(row[20:23])\n",
    "    big_list[6].append(row[24:27])\n",
    "    big_list[7].append(row[28:31])\n",
    "    big_list[8].append(row[32:35])\n",
    "\n",
    "for item in big_list:\n",
    "    item.reverse()\n",
    "    while '   ' in item:\n",
    "        item.remove('   ')\n",
    "\n",
    "\n",
    "for row in input[10:]:\n",
    "\n",
    "    amount = int(row.split(\" \")[1])\n",
    "    a = int(row.split(\" \")[3])\n",
    "    b = int(row.split(\" \")[5])\n",
    "    #print(amount, a, b)\n",
    "    for _ in range(amount):\n",
    "        item = big_list[a-1][-1]\n",
    "        big_list[b-1].append(item)\n",
    "        big_list[a-1].pop(-1)\n",
    "\n",
    "for item in big_list:\n",
    "    print(item[-1])\n",
    "\n",
    "\n",
    "\n",
    "    "
   ]
  },
  {
   "cell_type": "code",

   "metadata": {},
   "outputs": [
    {
     "name": "stdout",
     "output_type": "stream",
     "text": [
      "3\n",
      "2\n",
      "1\n"
     ]
    },
    {
     "data": {
      "text/plain": [
       "[1, 2]"
      ]
     },
     "execution_count": 17,
     "metadata": {},
     "output_type": "execute_result"
    }
   ],
   "source": [
    "my_list = [1, 2, 3, 4, 5]\n",
    "for item in my_list[]:\n",
    "    print(item)\n",
    "my_list = my_list[:-3]\n",
    "my_list\n"
   ]
  },
  {
   "cell_type": "code",
   "execution_count": null,
   "metadata": {},
   "outputs": [],
   "source": []
  }
 ],
 "metadata": {
  "kernelspec": {
   "display_name": "Python 3.9.7 ('Advent-of-code-Yfcixk6x')",
   "language": "python",
   "name": "python3"
  },
  "language_info": {
   "codemirror_mode": {
    "name": "ipython",
    "version": 3
   },
   "file_extension": ".py",
   "mimetype": "text/x-python",
   "name": "python",
   "nbconvert_exporter": "python",
   "pygments_lexer": "ipython3",
   "version": "3.9.7"
  },
  "orig_nbformat": 4,
  "vscode": {
   "interpreter": {
    "hash": "c76e5a016c7b06c875b13fee4854d9c402a5e3bf5f5a81569ba2a8c4047852bb"
   }
  }
 },
 "nbformat": 4,
 "nbformat_minor": 2
}
