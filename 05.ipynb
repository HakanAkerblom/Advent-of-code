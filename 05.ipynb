{
 "cells": [
  {
   "cell_type": "code",
   "execution_count": 80,
   "metadata": {},
   "outputs": [
    {
     "name": "stdout",
     "output_type": "stream",
     "text": [
      "[R]\n",
      "[G]\n",
      "[L]\n",
      "[V]\n",
      "[R]\n",
      "[C]\n",
      "[Q]\n",
      "[S]\n",
      "[B]\n",
      "[['[F]', '[R]', '[M]', '[D]', '[T]', '[S]', '[Z]', '[D]', '[V]', '[C]', '[P]', '[J]', '[R]'], ['[M]', '[B]', '[G]'], ['[B]', '[N]', '[D]', '[V]', '[L]'], ['[F]', '[N]', '[C]', '[V]'], ['[L]', '[D]', '[M]', '[S]', '[G]', '[Q]', '[R]'], ['[C]', '[R]', '[T]', '[H]', '[H]', '[C]'], ['[W]', '[S]', '[L]', '[S]', '[J]', '[V]', '[P]', '[Q]'], ['[S]', '[P]', '[R]', '[P]', '[J]', '[Q]', '[N]', '[F]', '[S]'], ['[B]']]\n"
     ]
    }
   ],
   "source": [
    "with open(\"input05.txt\") as file:\n",
    "    input = file.read().splitlines()\n",
    "\n",
    "big_list = [[]for i in range(9)]\n",
    "\n",
    "for row in input[:8]:\n",
    "    big_list[0].append(row[0:3])\n",
    "    big_list[1].append(row[4:7])\n",
    "    big_list[2].append(row[8:11])\n",
    "    big_list[3].append(row[12:15])\n",
    "    big_list[4].append(row[16:19])\n",
    "    big_list[5].append(row[20:23])\n",
    "    big_list[6].append(row[24:27])\n",
    "    big_list[7].append(row[28:31])\n",
    "    big_list[8].append(row[32:35])\n",
    "\n",
    "for item in big_list:\n",
    "    item.reverse()\n",
    "    while '   ' in item:\n",
    "        item.remove('   ')\n",
    "\n",
    "for row in input[10:]:\n",
    "\n",
    "    amount = int(row.split(\" \")[1])\n",
    "    a = int(row.split(\" \")[3])\n",
    "    b = int(row.split(\" \")[5])\n",
    "    #print(amount, a, b)\n",
    "    for item in big_list[a-1][-amount:]:\n",
    "        big_list[b-1].append(item)\n",
    "\n",
    "    big_list[a-1] = big_list[a-1][:-amount]\n",
    "\n",
    "\n",
    "for item in big_list:\n",
    "    print(item[-1])\n",
    "\n",
    "print(big_list)\n",
    "\n",
    "    "
   ]
  },
  {
   "cell_type": "code",
   "execution_count": 73,
   "metadata": {},
   "outputs": [
    {
     "data": {
      "text/plain": [
       "[['[J]', '[H]', '[P]', '[M]', '[S]', '[F]', '[N]', '[V]'],\n",
       " ['[S]', '[R]', '[L]', '[M]', '[J]', '[D]', '[Q]'],\n",
       " ['[N]', '[Q]', '[D]', '[H]', '[C]', '[S]', '[W]', '[B]'],\n",
       " ['[R]', '[S]', '[C]', '[L]'],\n",
       " ['[M]', '[V]', '[T]', '[P]', '[F]', '[B]'],\n",
       " ['[T]', '[R]', '[Q]', '[N]', '[C]'],\n",
       " ['[G]', '[V]', '[R]'],\n",
       " ['[C]', '[Z]', '[S]', '[P]', '[D]', '[L]', '[R]'],\n",
       " ['[D]', '[S]', '[J]', '[V]', '[G]', '[P]', '[B]', '[F]']]"
      ]
     },
     "execution_count": 73,
     "metadata": {},
     "output_type": "execute_result"
    }
   ],
   "source": [
    "with open(\"input05.txt\") as file:\n",
    "    input = file.read().splitlines()\n",
    "\n",
    "list1, list2, list3, list4, list5, list6, list7, list8, list9 = ([]for i in range(9))\n",
    "big_list = [[]for i in range(9)]\n",
    "big_list\n",
    "\n",
    "\n",
    "for row in input[:8]:\n",
    "    big_list[0].append(row[0:3])\n",
    "    big_list[1].append(row[4:7])\n",
    "    big_list[2].append(row[8:11])\n",
    "    big_list[3].append(row[12:15])\n",
    "    big_list[4].append(row[16:19])\n",
    "    big_list[5].append(row[20:23])\n",
    "    big_list[6].append(row[24:27])\n",
    "    big_list[7].append(row[28:31])\n",
    "    big_list[8].append(row[32:35])\n",
    "\n",
    "for item in big_list:\n",
    "    item.reverse()\n",
    "    while '   ' in item:\n",
    "        item.remove('   ')\n",
    "big_list"
   ]
  },
  {
   "cell_type": "code",
   "execution_count": 71,
   "metadata": {},
   "outputs": [
    {
     "data": {
      "text/plain": [
       "[4, 5]"
      ]
     },
     "execution_count": 71,
     "metadata": {},
     "output_type": "execute_result"
    }
   ],
   "source": [
    "my_list = [1, 2,3, 4,5]\n",
    "my_list[-2:]"
   ]
  }
 ],
 "metadata": {
  "kernelspec": {
   "display_name": "Python 3.9.13 ('Advent-of-code-mqTtSVl_')",
   "language": "python",
   "name": "python3"
  },
  "language_info": {
   "codemirror_mode": {
    "name": "ipython",
    "version": 3
   },
   "file_extension": ".py",
   "mimetype": "text/x-python",
   "name": "python",
   "nbconvert_exporter": "python",
   "pygments_lexer": "ipython3",
   "version": "3.9.13"
  },
  "orig_nbformat": 4,
  "vscode": {
   "interpreter": {
    "hash": "584adfd86da14e803a529d4149d698f4db4837deec92515cbcb6002dceaf0f11"
   }
  }
 },
 "nbformat": 4,
 "nbformat_minor": 2
}
