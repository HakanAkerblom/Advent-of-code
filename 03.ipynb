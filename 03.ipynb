{
 "cells": [
  {
   "cell_type": "code",
   "execution_count": null,
   "metadata": {},
   "outputs": [],
   "source": [
    "import string\n",
    "\n",
    "with open(\"input03.txt\") as file:\n",
    "    input = file.read().splitlines()\n",
    "\n",
    "matches = []\n",
    "for item in input:\n",
    "    a = item[:len(item)//2]\n",
    "    b = item[len(item)//2:]\n",
    "    for letter in a:\n",
    "        if letter in b:\n",
    "            matches.append(letter)\n",
    "            break\n",
    "\n",
    "alphabet = string.ascii_letters\n",
    "score = 0\n",
    "\n",
    "for match in matches:\n",
    "    for i, letter in enumerate(alphabet, 1):\n",
    "        if match == letter:\n",
    "            score += i\n",
    "\n",
    "score\n",
    "\n",
    "\n",
    "\n",
    "\n",
    "\n"
   ]
  },
  {
   "cell_type": "code",
   "execution_count": null,
   "metadata": {},
   "outputs": [],
   "source": [
    "len(input[0])"
   ]
  },
  {
   "cell_type": "code",
   "execution_count": null,
   "metadata": {},
   "outputs": [],
   "source": [
    "(alphabet := string.ascii_letters)\n"
   ]
  },
  {
   "cell_type": "markdown",
   "metadata": {},
   "source": [
    "# 3b"
   ]
  },
  {
   "cell_type": "code",
   "execution_count": 3,
   "metadata": {},
   "outputs": [
    {
     "data": {
      "text/plain": [
       "2780"
      ]
     },
     "execution_count": 3,
     "metadata": {},
     "output_type": "execute_result"
    }
   ],
   "source": [
    "import string\n",
    "\n",
    "with open(\"input03.txt\") as file:\n",
    "    input = file.read().splitlines()\n",
    "\n",
    "matches, i = [], 0\n",
    "for item in input[::3]:\n",
    "    for letter in item:\n",
    "        if letter in input[i+1]:\n",
    "            if letter in input[i+2]:\n",
    "                matches.append(letter)\n",
    "                i+=3\n",
    "                break\n",
    "\n",
    "alphabet = string.ascii_letters\n",
    "score = 0\n",
    "\n",
    "for match in matches:\n",
    "    for i, letter in enumerate(alphabet, 1):\n",
    "        if match == letter:\n",
    "            score += i\n",
    "\n",
    "score\n",
    "        "
   ]
  },
  {
   "cell_type": "code",
   "execution_count": null,
   "metadata": {},
   "outputs": [],
   "source": [
    "for i, item in enumerate(input[::3], 1):\n",
    "    print(i, item)"
   ]
  }
 ],
 "metadata": {
  "kernelspec": {
   "display_name": "Python 3.9.7 ('Advent-of-code-Yfcixk6x')",
   "language": "python",
   "name": "python3"
  },
  "language_info": {
   "codemirror_mode": {
    "name": "ipython",
    "version": 3
   },
   "file_extension": ".py",
   "mimetype": "text/x-python",
   "name": "python",
   "nbconvert_exporter": "python",
   "pygments_lexer": "ipython3",
   "version": "3.9.7"
  },
  "orig_nbformat": 4,
  "vscode": {
   "interpreter": {
    "hash": "c76e5a016c7b06c875b13fee4854d9c402a5e3bf5f5a81569ba2a8c4047852bb"
   }
  }
 },
 "nbformat": 4,
 "nbformat_minor": 2
}
