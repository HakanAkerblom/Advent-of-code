{
 "cells": [
  {
   "cell_type": "code",
   "execution_count": 15,
   "metadata": {},
   "outputs": [
    {
     "name": "stdout",
     "output_type": "stream",
     "text": [
      "[[0 1 1 ... 0 0 1]\n",
      " [1 0 2 ... 2 2 0]\n",
      " [0 0 2 ... 0 2 0]\n",
      " ...\n",
      " [1 2 2 ... 0 2 0]\n",
      " [2 2 1 ... 0 1 1]\n",
      " [2 0 2 ... 1 2 0]]\n"
     ]
    },
    {
     "data": {
      "text/plain": [
       "2"
      ]
     },
     "execution_count": 15,
     "metadata": {},
     "output_type": "execute_result"
    }
   ],
   "source": [
    "import numpy as np\n",
    "\n",
    "with open(\"input08.txt\") as file:\n",
    "    input = file.read().split()\n",
    "\n",
    "trees_list = []\n",
    "visible_trees = 0\n",
    "for row in input:\n",
    "    temp = []\n",
    "    for letter in row:\n",
    "        temp.append(letter)\n",
    "    trees_list.append(temp)\n",
    "\n",
    "trees_array = np.array(trees_list, dtype=int)\n",
    "print(trees_array)\n",
    "\n",
    "# visible_trees = 0\n",
    "# for row in input:\n",
    "#     for tree in row:\n",
    "#         pass\n"
   ]
  },
  {
   "cell_type": "code",
   "execution_count": null,
   "metadata": {},
   "outputs": [],
   "source": []
  }
 ],
 "metadata": {
  "kernelspec": {
   "display_name": "Advent-of-code-mqTtSVl_",
   "language": "python",
   "name": "python3"
  },
  "language_info": {
   "codemirror_mode": {
    "name": "ipython",
    "version": 3
   },
   "file_extension": ".py",
   "mimetype": "text/x-python",
   "name": "python",
   "nbconvert_exporter": "python",
   "pygments_lexer": "ipython3",
   "version": "3.9.13"
  },
  "orig_nbformat": 4,
  "vscode": {
   "interpreter": {
    "hash": "584adfd86da14e803a529d4149d698f4db4837deec92515cbcb6002dceaf0f11"
   }
  }
 },
 "nbformat": 4,
 "nbformat_minor": 2
}
