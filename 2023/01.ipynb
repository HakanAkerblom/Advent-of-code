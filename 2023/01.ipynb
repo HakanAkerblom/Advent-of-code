{
 "cells": [
  {
   "cell_type": "code",
   "execution_count": null,
   "metadata": {},
   "outputs": [],
   "source": [
    "with open(\"input01.txt\") as file:\n",
    "    input = file.readlines()\n"
   ]
  },
  {
   "cell_type": "code",
   "execution_count": null,
   "metadata": {},
   "outputs": [],
   "source": [
    "# first task\n",
    "\n",
    "sum = 0\n",
    "\n",
    "for line in input:\n",
    "    digits = []\n",
    "    for letter in line:\n",
    "        if letter.isdigit():\n",
    "            digits.append(int(letter))\n",
    "        \n",
    "    if len(digits) == 1:\n",
    "       sum += 11*digits[0]\n",
    "    else:\n",
    "        sum += 10*digits[0] + digits[-1]\n",
    "\n",
    "sum"
   ]
  },
  {
   "cell_type": "code",
   "execution_count": null,
   "metadata": {},
   "outputs": [],
   "source": [
    "# second task first attempt\n",
    "\n",
    "written_numbers_dict = {\n",
    "    \"one\": 0,\n",
    "    \"two\": 0,\n",
    "    \"three\": 0,\n",
    "    \"four\": 0,\n",
    "    \"five\": 0,\n",
    "    \"six\": 0,\n",
    "    \"seven\": 0,\n",
    "    \"eight\": 0,\n",
    "    \"nine\": 0,\n",
    "    \"1\": 0,\n",
    "    \"2\": 0,\n",
    "    \"3\": 0,\n",
    "    \"4\": 0,\n",
    "    \"5\": 0,\n",
    "    \"6\": 0,\n",
    "    \"7\": 0,\n",
    "    \"8\": 0,\n",
    "    \"9\": 0,\n",
    "}\n",
    "\n",
    "\n",
    "for line in input:\n",
    "    for number in written_numbers_dict:\n",
    "        position = line.find(number)\n",
    "        written_numbers_dict[number] = position\n",
    "    print(written_numbers_dict)\n",
    "    print(max(written_numbers_dict, key=written_numbers_dict.get))\n",
    "    written_numbers_dict = dict.fromkeys(written_numbers_dict, 0)\n"
   ]
  },
  {
   "cell_type": "code",
   "execution_count": null,
   "metadata": {},
   "outputs": [],
   "source": [
    "# second task second attempt\n",
    "\n"
   ]
  }
 ],
 "metadata": {
  "kernelspec": {
   "display_name": "Advent-of-code-mqTtSVl_",
   "language": "python",
   "name": "python3"
  },
  "language_info": {
   "codemirror_mode": {
    "name": "ipython",
    "version": 3
   },
   "file_extension": ".py",
   "mimetype": "text/x-python",
   "name": "python",
   "nbconvert_exporter": "python",
   "pygments_lexer": "ipython3",
   "version": "3.9.13"
  }
 },
 "nbformat": 4,
 "nbformat_minor": 2
}
