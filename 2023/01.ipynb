{
 "cells": [
  {
   "cell_type": "code",
   "execution_count": 49,
   "metadata": {},
   "outputs": [],
   "source": [
    "with open(\"input01.txt\") as file:\n",
    "    input = file.readlines()"
   ]
  },
  {
   "cell_type": "code",
   "execution_count": 50,
   "metadata": {},
   "outputs": [
    {
     "data": {
      "text/plain": [
       "54968"
      ]
     },
     "execution_count": 50,
     "metadata": {},
     "output_type": "execute_result"
    }
   ],
   "source": [
    "# first task\n",
    "\n",
    "sum = 0\n",
    "\n",
    "for line in input:\n",
    "    digits = []\n",
    "    for letter in line:\n",
    "        if letter.isdigit():\n",
    "            digits.append(int(letter))\n",
    "        \n",
    "    if len(digits) == 1:\n",
    "       sum += 11*digits[0]\n",
    "    else:\n",
    "        sum += 10*digits[0] + digits[-1]\n",
    "\n",
    "sum"
   ]
  },
  {
   "cell_type": "code",
   "execution_count": 53,
   "metadata": {},
   "outputs": [
    {
     "data": {
      "text/plain": [
       "54094"
      ]
     },
     "execution_count": 53,
     "metadata": {},
     "output_type": "execute_result"
    }
   ],
   "source": [
    "# second task first attempt\n",
    "sum = 0\n",
    "convert_dict = {\n",
    "    \"one\": 1,\n",
    "    \"two\": 2,\n",
    "    \"three\": 3,\n",
    "    \"four\": 4,\n",
    "    \"five\": 5,\n",
    "    \"six\": 6,\n",
    "    \"seven\": 7,\n",
    "    \"eight\": 8,\n",
    "    \"nine\": 9,\n",
    "}\n",
    "dict1 = {\n",
    "    \"one\": 0,\n",
    "    \"two\": 0,\n",
    "    \"three\": 0,\n",
    "    \"four\": 0,\n",
    "    \"five\": 0,\n",
    "    \"six\": 0,\n",
    "    \"seven\": 0,\n",
    "    \"eight\": 0,\n",
    "    \"nine\": 0,\n",
    "    \"1\": 0,\n",
    "    \"2\": 0,\n",
    "    \"3\": 0,\n",
    "    \"4\": 0,\n",
    "    \"5\": 0,\n",
    "    \"6\": 0,\n",
    "    \"7\": 0,\n",
    "    \"8\": 0,\n",
    "    \"9\": 0,\n",
    "}\n",
    "\n",
    "\n",
    "\n",
    "\n",
    "for line in input:\n",
    "    for number in dict1:\n",
    "        position = line.find(number)\n",
    "        dict1[number] = position\n",
    "    dict1_findings = {k: v for k, v in dict1.items() if v != -1}\n",
    "\n",
    "    first_num = min(dict1_findings, key=dict1_findings.get)\n",
    "\n",
    "    if len(first_num) == 1:\n",
    "        first_num = int(first_num)\n",
    "    else:\n",
    "        first_num = convert_dict[first_num]\n",
    "\n",
    "        dict1 = dict.fromkeys(dict1, 0)\n",
    "\n",
    "    for number in dict1:\n",
    "        position = line.rfind(number)\n",
    "        dict1[number] = position\n",
    "    dict1_findings = {k: v for k, v in dict1.items() if v != -1}\n",
    "\n",
    "    last_num = max(dict1_findings, key=dict1_findings.get)\n",
    "\n",
    "    if len(last_num) == 1:\n",
    "        last_num = int(last_num)\n",
    "    else:\n",
    "        last_num = convert_dict[last_num]\n",
    "\n",
    "    sum += 10 * first_num + last_num\n",
    "    dict1 = dict.fromkeys(dict1, 0)\n",
    "\n",
    "sum"
   ]
  },
  {
   "cell_type": "code",
   "execution_count": null,
   "metadata": {},
   "outputs": [],
   "source": []
  }
 ],
 "metadata": {
  "kernelspec": {
   "display_name": "Advent-of-code-mqTtSVl_",
   "language": "python",
   "name": "python3"
  },
  "language_info": {
   "codemirror_mode": {
    "name": "ipython",
    "version": 3
   },
   "file_extension": ".py",
   "mimetype": "text/x-python",
   "name": "python",
   "nbconvert_exporter": "python",
   "pygments_lexer": "ipython3",
   "version": "3.9.13"
  }
 },
 "nbformat": 4,
 "nbformat_minor": 2
}
