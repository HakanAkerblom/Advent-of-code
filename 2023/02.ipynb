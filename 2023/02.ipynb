{
 "cells": [
  {
   "cell_type": "code",
   "execution_count": null,
   "metadata": {},
   "outputs": [],
   "source": [
    "with open(\"input02.txt\") as file:\n",
    "    input = file.readlines()\n"
   ]
  },
  {
   "cell_type": "code",
   "execution_count": 73,
   "metadata": {},
   "outputs": [
    {
     "data": {
      "text/plain": [
       "2006"
      ]
     },
     "execution_count": 73,
     "metadata": {},
     "output_type": "execute_result"
    }
   ],
   "source": [
    "# task one\n",
    "sum = 0\n",
    "import re\n",
    "for i in range(len(input)):\n",
    "    if re.search(\"([2-9]\\d|[1-9]\\d{2,}|[1][5-9]|14 red|14 green|13 red)\", input[i].split(\":\")[1]):\n",
    "        continue\n",
    "    else: sum += i+1\n",
    "sum\n"
   ]
  },
  {
   "cell_type": "code",
   "execution_count": 72,
   "metadata": {},
   "outputs": [
    {
     "data": {
      "text/plain": [
       "84911"
      ]
     },
     "execution_count": 72,
     "metadata": {},
     "output_type": "execute_result"
    }
   ],
   "source": [
    "# task two\n",
    "sum = 0\n",
    "colors = [\"red\", \"blue\", \"green\"]\n",
    "\n",
    "for line in input:\n",
    "    product_ = 1\n",
    "    for color in colors:\n",
    "        color_nums = re.findall(f\"\\d+\\s{color}\", line)\n",
    "\n",
    "        num_list=[]\n",
    "        for i in color_nums:\n",
    "            num_list.append(int(i.split(\" \")[0]))\n",
    "        product_ *= max(num_list)\n",
    "\n",
    "    sum += product_\n",
    "\n",
    "sum"
   ]
  }
 ],
 "metadata": {
  "kernelspec": {
   "display_name": "Advent-of-code-mqTtSVl_",
   "language": "python",
   "name": "python3"
  },
  "language_info": {
   "codemirror_mode": {
    "name": "ipython",
    "version": 3
   },
   "file_extension": ".py",
   "mimetype": "text/x-python",
   "name": "python",
   "nbconvert_exporter": "python",
   "pygments_lexer": "ipython3",
   "version": "3.9.13"
  }
 },
 "nbformat": 4,
 "nbformat_minor": 2
}
